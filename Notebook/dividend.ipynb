{
 "cells": [
  {
   "cell_type": "code",
   "execution_count": 1,
   "metadata": {},
   "outputs": [
    {
     "name": "stdout",
     "output_type": "stream",
     "text": [
      "The page-1 is processed. Time: 0.1s\n",
      "The data in page-1 is collected. Time: 0.0s\n",
      "Sleeping for 5 seconds...\n",
      "The page-2 is processed. Time: 0.1s\n",
      "The page-1 is processed. Time: 0.2s\n",
      "The data in page-1 is collected. Time: 0.0s\n",
      "Sleeping for 5 seconds...\n",
      "The page-2 is processed. Time: 0.1s\n"
     ]
    }
   ],
   "source": [
    "from seibro_data import get_seibro_dividend\n",
    "\n",
    "res = get_seibro_dividend(\n",
    "    start_date = '20240501',\n",
    "    end_date = '20240831',\n",
    "    etf_dividend_type = '이익분배',\n",
    ")"
   ]
  },
  {
   "cell_type": "code",
   "execution_count": 28,
   "metadata": {},
   "outputs": [],
   "source": [
    "import pandas as pd\n",
    "\n",
    "bbg_idx_div = pd.read_json('../Data/idx_div.json', orient='records')\n",
    "bbg_equity_div = pd.read_json('../Data/equity_div.json', orient='records')"
   ]
  },
  {
   "cell_type": "code",
   "execution_count": 46,
   "metadata": {},
   "outputs": [
    {
     "name": "stdout",
     "output_type": "stream",
     "text": [
      "KR7459580007\n",
      "KR7357870005\n",
      "KR7423160001\n",
      "KR7449170000\n",
      "KR7475630000\n",
      "KR7481050003\n",
      "KR7477080006\n",
      "KR7453010001\n",
      "KR7458210002\n",
      "KR7453060006\n",
      "KR7471290007\n",
      "KR7479520009\n"
     ]
    }
   ],
   "source": [
    "pdf = pd.read_json('C:/JsonDb/20240514/krx_etf_combined_base.json')\n",
    "cd_unique_idx = pdf[pdf['index'].str.contains('CD')]['index'].unique()\n",
    "kofr_unique_idx = pdf[pdf['index'].str.contains('KOFR')]['index'].unique()\n",
    "for isin in pdf[pdf['index'].isin(cd_unique_idx) | pdf['index'].isin(kofr_unique_idx)]['isin'].tolist(): print(isin)"
   ]
  },
  {
   "cell_type": "code",
   "execution_count": 53,
   "metadata": {},
   "outputs": [],
   "source": [
    "pdf = pd.read_json('C:/JsonDb/20240514/krx_etf_pdf.json')"
   ]
  },
  {
   "cell_type": "code",
   "execution_count": 61,
   "metadata": {},
   "outputs": [
    {
     "data": {
      "text/plain": [
       "['KR7277630000',\n",
       " 'KR7328370002',\n",
       " 'KR7226490001',\n",
       " 'KR7302450002',\n",
       " 'KR7325010007',\n",
       " 'KR7273130005',\n",
       " 'KR7455890004',\n",
       " 'KR7122630007',\n",
       " 'KR7105190003',\n",
       " 'KR7295040000',\n",
       " 'KR7278530001',\n",
       " 'KR7152100004',\n",
       " 'KR7293180006',\n",
       " 'KR7294400007',\n",
       " 'KR7148020001',\n",
       " 'KR7069500007',\n",
       " 'KR7332930007',\n",
       " 'KR7102110004',\n",
       " 'KR7451060008',\n",
       " 'KR7361580004']"
      ]
     },
     "execution_count": 61,
     "metadata": {},
     "output_type": "execute_result"
    }
   ],
   "source": [
    "res = pdf[['etf_isin', 'COMPST_ISU_NM']].groupby('etf_isin').count()\n",
    "res.sort_values(by = 'COMPST_ISU_NM', ascending = False).reset_index().iloc[:20]['etf_isin'].tolist()"
   ]
  },
  {
   "cell_type": "code",
   "execution_count": null,
   "metadata": {},
   "outputs": [],
   "source": []
  }
 ],
 "metadata": {
  "kernelspec": {
   "display_name": "Base",
   "language": "python",
   "name": "python3"
  },
  "language_info": {
   "codemirror_mode": {
    "name": "ipython",
    "version": 3
   },
   "file_extension": ".py",
   "mimetype": "text/x-python",
   "name": "python",
   "nbconvert_exporter": "python",
   "pygments_lexer": "ipython3",
   "version": "3.9.13"
  }
 },
 "nbformat": 4,
 "nbformat_minor": 2
}
