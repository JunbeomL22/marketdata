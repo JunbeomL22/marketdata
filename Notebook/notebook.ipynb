{
 "cells": [
  {
   "cell_type": "code",
   "execution_count": 10,
   "metadata": {},
   "outputs": [
    {
     "name": "stdout",
     "output_type": "stream",
     "text": [
      "Futures Data for ES=F:\n",
      "                              Open     High          Low        Close  \\\n",
      "Date                                                                    \n",
      "2024-03-14 00:00:00-04:00  5171.50  5189.50  5124.250000  5153.750000   \n",
      "2024-03-15 00:00:00-04:00  5152.25  5167.00  5101.669922  5101.669922   \n",
      "2024-03-18 00:00:00-04:00  5185.75  5240.25  5181.750000  5214.750000   \n",
      "2024-03-19 00:00:00-04:00  5215.25  5244.75  5186.000000  5241.750000   \n",
      "2024-03-20 00:00:00-04:00  5239.75  5297.75  5233.000000  5286.750000   \n",
      "2024-03-21 00:00:00-04:00  5294.75  5322.75  5293.500000  5302.500000   \n",
      "2024-03-22 00:00:00-04:00  5306.75  5311.75  5287.750000  5293.250000   \n",
      "2024-03-25 00:00:00-04:00  5290.50  5295.00  5272.500000  5278.250000   \n",
      "2024-03-26 00:00:00-04:00  5280.75  5300.50  5263.000000  5265.250000   \n",
      "2024-03-27 00:00:00-04:00  5273.25  5313.75  5270.750000  5308.250000   \n",
      "2024-03-28 00:00:00-04:00  5308.00  5321.00  5301.000000  5308.500000   \n",
      "2024-04-01 00:00:00-04:00  5314.25  5333.50  5282.250000  5295.250000   \n",
      "2024-04-02 00:00:00-04:00  5294.50  5296.00  5235.000000  5260.500000   \n",
      "2024-04-03 00:00:00-04:00  5262.50  5280.75  5244.500000  5266.500000   \n",
      "2024-04-04 00:00:00-04:00  5270.75  5308.50  5192.500000  5197.250000   \n",
      "2024-04-05 00:00:00-04:00  5199.75  5272.50  5191.500000  5253.000000   \n",
      "2024-04-08 00:00:00-04:00  5263.25  5269.25  5236.500000  5253.250000   \n",
      "2024-04-09 00:00:00-04:00  5258.00  5274.25  5208.250000  5260.250000   \n",
      "2024-04-10 00:00:00-04:00  5264.25  5285.00  5176.500000  5207.750000   \n",
      "2024-04-11 00:00:00-04:00  5202.00  5257.50  5173.500000  5243.250000   \n",
      "2024-04-12 00:00:00-04:00  5244.00  5248.75  5150.000000  5166.500000   \n",
      "\n",
      "                            Volume  Dividends  Stock Splits  \n",
      "Date                                                         \n",
      "2024-03-14 00:00:00-04:00   476074        0.0           0.0  \n",
      "2024-03-15 00:00:00-04:00  1927775        0.0           0.0  \n",
      "2024-03-18 00:00:00-04:00  1377276        0.0           0.0  \n",
      "2024-03-19 00:00:00-04:00  1440289        0.0           0.0  \n",
      "2024-03-20 00:00:00-04:00  1404974        0.0           0.0  \n",
      "2024-03-21 00:00:00-04:00  1326994        0.0           0.0  \n",
      "2024-03-22 00:00:00-04:00  1162606        0.0           0.0  \n",
      "2024-03-25 00:00:00-04:00   920608        0.0           0.0  \n",
      "2024-03-26 00:00:00-04:00  1092706        0.0           0.0  \n",
      "2024-03-27 00:00:00-04:00  1487671        0.0           0.0  \n",
      "2024-03-28 00:00:00-04:00  1317836        0.0           0.0  \n",
      "2024-04-01 00:00:00-04:00  1125234        0.0           0.0  \n",
      "2024-04-02 00:00:00-04:00  1426691        0.0           0.0  \n",
      "2024-04-03 00:00:00-04:00  1402981        0.0           0.0  \n",
      "2024-04-04 00:00:00-04:00  1941274        0.0           0.0  \n",
      "2024-04-05 00:00:00-04:00  1908306        0.0           0.0  \n",
      "2024-04-08 00:00:00-04:00  1167648        0.0           0.0  \n",
      "2024-04-09 00:00:00-04:00  1651973        0.0           0.0  \n",
      "2024-04-10 00:00:00-04:00  2369864        0.0           0.0  \n",
      "2024-04-11 00:00:00-04:00  1762470        0.0           0.0  \n",
      "2024-04-12 00:00:00-04:00  1907623        0.0           0.0  \n"
     ]
    }
   ],
   "source": [
    "import yfinance as yf\n",
    "\n",
    "# Specify the futures symbol\n",
    "symbol = \"ES=F\"  # S&P 500 E-mini Futures\n",
    "\n",
    "# Create a Ticker object\n",
    "ticker = yf.Ticker(symbol)\n",
    "\n",
    "# Get the futures data\n",
    "futures_data = ticker.history(period=\"1mo\")  # Get data for the last month\n",
    "\n",
    "# Print the futures data\n",
    "print(f\"Futures Data for {symbol}:\")\n",
    "print(futures_data)"
   ]
  },
  {
   "cell_type": "code",
   "execution_count": 12,
   "metadata": {},
   "outputs": [
    {
     "data": {
      "text/plain": [
       "{'maxAge': 86400,\n",
       " 'priceHint': 2,\n",
       " 'previousClose': 5243.25,\n",
       " 'open': 5244.0,\n",
       " 'dayLow': 5150.0,\n",
       " 'dayHigh': 5248.75,\n",
       " 'regularMarketPreviousClose': 5243.25,\n",
       " 'regularMarketOpen': 5244.0,\n",
       " 'regularMarketDayLow': 5150.0,\n",
       " 'regularMarketDayHigh': 5248.75,\n",
       " 'volume': 1907623,\n",
       " 'regularMarketVolume': 1907623,\n",
       " 'averageVolume': 1505267,\n",
       " 'averageVolume10days': 1651891,\n",
       " 'averageDailyVolume10Day': 1651891,\n",
       " 'bid': 5166.5,\n",
       " 'ask': 5167.0,\n",
       " 'expireDate': 1718928000,\n",
       " 'openInterest': 2072666,\n",
       " 'fiftyTwoWeekLow': 4062.25,\n",
       " 'fiftyTwoWeekHigh': 5333.5,\n",
       " 'fiftyDayAverage': 5141.1436,\n",
       " 'twoHundredDayAverage': 4689.7695,\n",
       " 'currency': 'USD',\n",
       " 'exchange': 'CME',\n",
       " 'quoteType': 'FUTURE',\n",
       " 'symbol': 'ESM24.CME',\n",
       " 'underlyingSymbol': 'ES=F',\n",
       " 'shortName': 'E-Mini S&P 500 Jun 24',\n",
       " 'firstTradeDateEpochUtc': 969249600,\n",
       " 'timeZoneFullName': 'America/New_York',\n",
       " 'timeZoneShortName': 'EDT',\n",
       " 'uuid': 'cf3846d5-a0a5-33ac-b011-029a1e8e7f2f',\n",
       " 'gmtOffSetMilliseconds': -14400000,\n",
       " 'trailingPegRatio': None}"
      ]
     },
     "execution_count": 12,
     "metadata": {},
     "output_type": "execute_result"
    }
   ],
   "source": [
    "ticker.get_info()"
   ]
  },
  {
   "cell_type": "code",
   "execution_count": 13,
   "metadata": {},
   "outputs": [
    {
     "data": {
      "text/plain": [
       "{}"
      ]
     },
     "execution_count": 13,
     "metadata": {},
     "output_type": "execute_result"
    }
   ],
   "source": []
  },
  {
   "cell_type": "code",
   "execution_count": null,
   "metadata": {},
   "outputs": [],
   "source": []
  }
 ],
 "metadata": {
  "kernelspec": {
   "display_name": "Base",
   "language": "python",
   "name": "python3"
  },
  "language_info": {
   "codemirror_mode": {
    "name": "ipython",
    "version": 3
   },
   "file_extension": ".py",
   "mimetype": "text/x-python",
   "name": "python",
   "nbconvert_exporter": "python",
   "pygments_lexer": "ipython3",
   "version": "3.9.13"
  }
 },
 "nbformat": 4,
 "nbformat_minor": 2
}
