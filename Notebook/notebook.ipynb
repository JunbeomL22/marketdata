{
 "cells": [
  {
   "cell_type": "code",
   "execution_count": 3,
   "metadata": {},
   "outputs": [],
   "source": [
    "from code_config import jsondb_dir\n",
    "import pandas as pd\n",
    "import os\n",
    "\n",
    "parameter_date = '20240524'\n",
    "directory = os.path.join(jsondb_dir, parameter_date)\n",
    "ir_curve = pd.read_json(os.path.join(directory, 'ir_curve.json'))\n",
    "bbg_div_est = pd.read_json(os.path.join(directory, 'bbg_div_est.json'))\n",
    "pd.to_datetime(bbg_div_est['ex_date'], unit='ms')"
   ]
  },
  {
   "cell_type": "code",
   "execution_count": 8,
   "metadata": {},
   "outputs": [
    {
     "data": {
      "text/plain": [
       "0     2024-06-27\n",
       "1     2024-06-29\n",
       "2     2024-08-07\n",
       "3     2024-09-27\n",
       "4     2024-10-04\n",
       "         ...    \n",
       "151   2026-12-29\n",
       "152   2027-12-29\n",
       "153   2028-12-27\n",
       "154   2029-12-27\n",
       "155   2030-12-27\n",
       "Name: ex_date, Length: 156, dtype: datetime64[ns]"
      ]
     },
     "execution_count": 8,
     "metadata": {},
     "output_type": "execute_result"
    }
   ],
   "source": []
  }
 ],
 "metadata": {
  "kernelspec": {
   "display_name": "Base",
   "language": "python",
   "name": "python3"
  },
  "language_info": {
   "codemirror_mode": {
    "name": "ipython",
    "version": 3
   },
   "file_extension": ".py",
   "mimetype": "text/x-python",
   "name": "python",
   "nbconvert_exporter": "python",
   "pygments_lexer": "ipython3",
   "version": "3.9.13"
  }
 },
 "nbformat": 4,
 "nbformat_minor": 2
}
